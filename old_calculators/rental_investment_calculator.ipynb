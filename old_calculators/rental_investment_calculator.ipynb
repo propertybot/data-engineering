{
 "cells": [
  {
   "cell_type": "code",
   "execution_count": 13,
   "metadata": {
    "ExecuteTime": {
     "end_time": "2020-01-30T18:32:06.897322Z",
     "start_time": "2020-01-30T18:32:06.895067Z"
    }
   },
   "outputs": [],
   "source": [
    "import pandas as pd\n",
    "import numpy as np\n",
    "import seaborn as sns"
   ]
  },
  {
   "cell_type": "code",
   "execution_count": 14,
   "metadata": {
    "ExecuteTime": {
     "end_time": "2020-01-30T18:32:06.906622Z",
     "start_time": "2020-01-30T18:32:06.901489Z"
    }
   },
   "outputs": [],
   "source": [
    "def calc_mortgage(csv_path, downpayment, amortization, int_rate):\n",
    "    df = pd.read_csv(\"{0}\".format(csv_path))\n",
    "    df['down_payment'] = df['price'] * downpayment\n",
    "    df['loan_amount'] = df['price'] - df['down_payment']\n",
    "    def calc_mortgage_payment(loan_amount, amortization_period=amortization, yearly_rate=int_rate):\n",
    "        monthly_interest_rate = ((1 + yearly_rate)**(1 / 12) - 1)\n",
    "        payment = np.pmt(rate=monthly_interest_rate, nper=12*amortization_period, pv=loan_amount)\n",
    "        return payment\n",
    "    df['mortgage_payment'] = df['loan_amount'].apply(calc_mortgage_payment)\n",
    "    return df\n"
   ]
  },
  {
   "cell_type": "code",
   "execution_count": 15,
   "metadata": {
    "ExecuteTime": {
     "end_time": "2020-01-30T18:32:06.910957Z",
     "start_time": "2020-01-30T18:32:06.908402Z"
    }
   },
   "outputs": [],
   "source": [
    "def calc_property_tax(df, rate):\n",
    "    df['property_tax'] = (df['PRICE'] * rate * -1) / 12\n",
    "    return df"
   ]
  },
  {
   "cell_type": "code",
   "execution_count": 16,
   "metadata": {
    "ExecuteTime": {
     "end_time": "2020-01-30T18:32:06.914834Z",
     "start_time": "2020-01-30T18:32:06.912285Z"
    }
   },
   "outputs": [],
   "source": [
    "def calc_insurance(price):\n",
    "    premium_per_dollar_insured =  900 / 200000\n",
    "    monthly_insurance = ((premium_per_dollar_insured * price) / 12) * -1\n",
    "    return monthly_insurance"
   ]
  },
  {
   "cell_type": "code",
   "execution_count": 17,
   "metadata": {
    "ExecuteTime": {
     "end_time": "2020-01-30T18:32:06.921109Z",
     "start_time": "2020-01-30T18:32:06.916453Z"
    }
   },
   "outputs": [],
   "source": [
    "\n",
    "def get_rent_per_sqft(df):\n",
    "    zip_rents = pd.read_csv(\"0_raw_data/Zip_MedianRentalPricePerSqft_Mfr5Plus.csv\")\n",
    "    zip_rents = pd.melt(zip_rents, \n",
    "                        id_vars=['RegionName', 'City', 'State', 'Metro', 'CountyName', 'SizeRank'], \n",
    "                        var_name='year_month',\n",
    "                       value_name = 'rent_per_sqft')\n",
    "    zip_rents = zip_rents[zip_rents['year_month'] == '2019-11']\n",
    "    zip_rents = zip_rents[['RegionName', 'rent_per_sqft']]\n",
    "    df = df.merge(zip_rents, how = 'left', left_on='ZIP OR POSTAL CODE', right_on='RegionName')\n",
    "    df['rent_per_sqft'].fillna(1.297577855, inplace=True)\n",
    "    df['rent'] = df['rent_per_sqft'] * df['SQUARE FEET']\n",
    "    df['rent'].fillna((df['rent'].mean()), inplace=True)\n",
    "    return df"
   ]
  },
  {
   "cell_type": "code",
   "execution_count": 18,
   "metadata": {
    "ExecuteTime": {
     "end_time": "2020-01-30T18:32:06.929112Z",
     "start_time": "2020-01-30T18:32:06.922761Z"
    }
   },
   "outputs": [],
   "source": [
    "def run_rental_calculator(csv_path, downpayment, amortization, int_rate, prop_tax_rate, vacancy, maintenance, capex, property_management):\n",
    "    df = calc_mortgage(csv_path=\"{0}\".format(csv_path), downpayment=downpayment, amortization=amortization, int_rate=int_rate)\n",
    "    df = calc_property_tax(df, rate=prop_tax_rate)\n",
    "    df['insurance_payment'] = df['PRICE'].apply(calc_insurance)\n",
    "    df = get_rent_per_sqft(df=df)\n",
    "    df['vacancy'] = df['rent'] * vacancy * -1\n",
    "    df['maintenance'] = df['rent'] * maintenance * -1\n",
    "    df['capex'] = df['rent'] * capex * -1\n",
    "    df['property_management'] = df['rent'] * property_management * -1\n",
    "    df['water'] = -100\n",
    "    df['electricity'] = 0\n",
    "    df['garbage'] = -100\n",
    "    df['monthly_cashflow'] = df['rent'] + df['mortgage_payment'] + df['property_tax'] + df['insurance_payment'] + df['vacancy'] + + df['maintenance'] +  df['capex'] +  df['property_management'] + df['water'] + df['electricity'] + df['garbage']\n",
    "    df['coc_return'] = df['monthly_cashflow'] * 12 / df['down_payment']\n",
    "    df = df.drop_duplicates()\n",
    "    return df\n"
   ]
  },
  {
   "cell_type": "code",
   "execution_count": 19,
   "metadata": {
    "ExecuteTime": {
     "end_time": "2020-01-30T18:32:07.130709Z",
     "start_time": "2020-01-30T18:32:06.930259Z"
    }
   },
   "outputs": [],
   "source": [
    "df_final = run_rental_calculator(csv_path='0_raw_data/redfin_for_sale.csv', \n",
    "                      downpayment=.25, \n",
    "                      amortization=30, \n",
    "                      int_rate=0.045, \n",
    "                      prop_tax_rate=0.01937, \n",
    "                      vacancy=.10, \n",
    "                      maintenance=0.10, \n",
    "                      capex=0.10, \n",
    "                      property_management=0.10)\n"
   ]
  },
  {
   "cell_type": "code",
   "execution_count": 20,
   "metadata": {
    "ExecuteTime": {
     "end_time": "2020-01-30T18:32:07.133502Z",
     "start_time": "2020-01-30T18:32:07.131861Z"
    }
   },
   "outputs": [],
   "source": [
    "# df_final = df_final[(df_final['PRICE'] >= 75000) & (df_final['PRICE'] <= 100000)]"
   ]
  },
  {
   "cell_type": "code",
   "execution_count": 21,
   "metadata": {
    "ExecuteTime": {
     "end_time": "2020-01-30T18:32:07.208607Z",
     "start_time": "2020-01-30T18:32:07.134489Z"
    }
   },
   "outputs": [
    {
     "data": {
      "text/html": [
       "<div>\n",
       "<style scoped>\n",
       "    .dataframe tbody tr th:only-of-type {\n",
       "        vertical-align: middle;\n",
       "    }\n",
       "\n",
       "    .dataframe tbody tr th {\n",
       "        vertical-align: top;\n",
       "    }\n",
       "\n",
       "    .dataframe thead th {\n",
       "        text-align: right;\n",
       "    }\n",
       "</style>\n",
       "<table border=\"1\" class=\"dataframe\">\n",
       "  <thead>\n",
       "    <tr style=\"text-align: right;\">\n",
       "      <th></th>\n",
       "      <th>count</th>\n",
       "      <th>mean</th>\n",
       "      <th>std</th>\n",
       "      <th>min</th>\n",
       "      <th>25%</th>\n",
       "      <th>50%</th>\n",
       "      <th>75%</th>\n",
       "      <th>max</th>\n",
       "    </tr>\n",
       "  </thead>\n",
       "  <tbody>\n",
       "    <tr>\n",
       "      <th>SOLD DATE</th>\n",
       "      <td>0.0</td>\n",
       "      <td>NaN</td>\n",
       "      <td>NaN</td>\n",
       "      <td>NaN</td>\n",
       "      <td>NaN</td>\n",
       "      <td>NaN</td>\n",
       "      <td>NaN</td>\n",
       "      <td>NaN</td>\n",
       "    </tr>\n",
       "    <tr>\n",
       "      <th>ZIP OR POSTAL CODE</th>\n",
       "      <td>21.0</td>\n",
       "      <td>53216.10</td>\n",
       "      <td>6.70</td>\n",
       "      <td>53207.00</td>\n",
       "      <td>53207.00</td>\n",
       "      <td>53219.00</td>\n",
       "      <td>53222.00</td>\n",
       "      <td>53222.00</td>\n",
       "    </tr>\n",
       "    <tr>\n",
       "      <th>PRICE</th>\n",
       "      <td>21.0</td>\n",
       "      <td>270219.05</td>\n",
       "      <td>189904.16</td>\n",
       "      <td>84900.00</td>\n",
       "      <td>147000.00</td>\n",
       "      <td>208500.00</td>\n",
       "      <td>310000.00</td>\n",
       "      <td>829900.00</td>\n",
       "    </tr>\n",
       "    <tr>\n",
       "      <th>BEDS</th>\n",
       "      <td>13.0</td>\n",
       "      <td>4.77</td>\n",
       "      <td>1.01</td>\n",
       "      <td>4.00</td>\n",
       "      <td>4.00</td>\n",
       "      <td>4.00</td>\n",
       "      <td>6.00</td>\n",
       "      <td>6.00</td>\n",
       "    </tr>\n",
       "    <tr>\n",
       "      <th>BATHS</th>\n",
       "      <td>13.0</td>\n",
       "      <td>2.00</td>\n",
       "      <td>0.00</td>\n",
       "      <td>2.00</td>\n",
       "      <td>2.00</td>\n",
       "      <td>2.00</td>\n",
       "      <td>2.00</td>\n",
       "      <td>2.00</td>\n",
       "    </tr>\n",
       "    <tr>\n",
       "      <th>SQUARE FEET</th>\n",
       "      <td>17.0</td>\n",
       "      <td>2140.59</td>\n",
       "      <td>605.04</td>\n",
       "      <td>952.00</td>\n",
       "      <td>1736.00</td>\n",
       "      <td>2080.00</td>\n",
       "      <td>2608.00</td>\n",
       "      <td>3150.00</td>\n",
       "    </tr>\n",
       "    <tr>\n",
       "      <th>LOT SIZE</th>\n",
       "      <td>20.0</td>\n",
       "      <td>6315.75</td>\n",
       "      <td>4126.52</td>\n",
       "      <td>3049.00</td>\n",
       "      <td>3484.00</td>\n",
       "      <td>5227.00</td>\n",
       "      <td>6642.75</td>\n",
       "      <td>20473.00</td>\n",
       "    </tr>\n",
       "    <tr>\n",
       "      <th>YEAR BUILT</th>\n",
       "      <td>21.0</td>\n",
       "      <td>1944.00</td>\n",
       "      <td>27.16</td>\n",
       "      <td>1899.00</td>\n",
       "      <td>1926.00</td>\n",
       "      <td>1953.00</td>\n",
       "      <td>1956.00</td>\n",
       "      <td>1990.00</td>\n",
       "    </tr>\n",
       "    <tr>\n",
       "      <th>DAYS ON MARKET</th>\n",
       "      <td>21.0</td>\n",
       "      <td>86.90</td>\n",
       "      <td>77.82</td>\n",
       "      <td>1.00</td>\n",
       "      <td>10.00</td>\n",
       "      <td>81.00</td>\n",
       "      <td>141.00</td>\n",
       "      <td>247.00</td>\n",
       "    </tr>\n",
       "    <tr>\n",
       "      <th>$/SQUARE FEET</th>\n",
       "      <td>17.0</td>\n",
       "      <td>100.82</td>\n",
       "      <td>46.02</td>\n",
       "      <td>40.00</td>\n",
       "      <td>70.00</td>\n",
       "      <td>93.00</td>\n",
       "      <td>122.00</td>\n",
       "      <td>194.00</td>\n",
       "    </tr>\n",
       "    <tr>\n",
       "      <th>HOA/MONTH</th>\n",
       "      <td>0.0</td>\n",
       "      <td>NaN</td>\n",
       "      <td>NaN</td>\n",
       "      <td>NaN</td>\n",
       "      <td>NaN</td>\n",
       "      <td>NaN</td>\n",
       "      <td>NaN</td>\n",
       "      <td>NaN</td>\n",
       "    </tr>\n",
       "    <tr>\n",
       "      <th>NEXT OPEN HOUSE START TIME</th>\n",
       "      <td>0.0</td>\n",
       "      <td>NaN</td>\n",
       "      <td>NaN</td>\n",
       "      <td>NaN</td>\n",
       "      <td>NaN</td>\n",
       "      <td>NaN</td>\n",
       "      <td>NaN</td>\n",
       "      <td>NaN</td>\n",
       "    </tr>\n",
       "    <tr>\n",
       "      <th>NEXT OPEN HOUSE END TIME</th>\n",
       "      <td>0.0</td>\n",
       "      <td>NaN</td>\n",
       "      <td>NaN</td>\n",
       "      <td>NaN</td>\n",
       "      <td>NaN</td>\n",
       "      <td>NaN</td>\n",
       "      <td>NaN</td>\n",
       "      <td>NaN</td>\n",
       "    </tr>\n",
       "    <tr>\n",
       "      <th>MLS#</th>\n",
       "      <td>21.0</td>\n",
       "      <td>1824796.67</td>\n",
       "      <td>731612.26</td>\n",
       "      <td>1640975.00</td>\n",
       "      <td>1661399.00</td>\n",
       "      <td>1668134.00</td>\n",
       "      <td>1673338.00</td>\n",
       "      <td>5017565.00</td>\n",
       "    </tr>\n",
       "    <tr>\n",
       "      <th>LATITUDE</th>\n",
       "      <td>21.0</td>\n",
       "      <td>43.02</td>\n",
       "      <td>0.04</td>\n",
       "      <td>42.97</td>\n",
       "      <td>42.99</td>\n",
       "      <td>43.01</td>\n",
       "      <td>43.07</td>\n",
       "      <td>43.09</td>\n",
       "    </tr>\n",
       "    <tr>\n",
       "      <th>LONGITUDE</th>\n",
       "      <td>21.0</td>\n",
       "      <td>-87.97</td>\n",
       "      <td>0.06</td>\n",
       "      <td>-88.07</td>\n",
       "      <td>-88.02</td>\n",
       "      <td>-87.98</td>\n",
       "      <td>-87.90</td>\n",
       "      <td>-87.87</td>\n",
       "    </tr>\n",
       "    <tr>\n",
       "      <th>down_payment</th>\n",
       "      <td>21.0</td>\n",
       "      <td>67554.76</td>\n",
       "      <td>47476.04</td>\n",
       "      <td>21225.00</td>\n",
       "      <td>36750.00</td>\n",
       "      <td>52125.00</td>\n",
       "      <td>77500.00</td>\n",
       "      <td>207475.00</td>\n",
       "    </tr>\n",
       "    <tr>\n",
       "      <th>loan_amount</th>\n",
       "      <td>21.0</td>\n",
       "      <td>202664.29</td>\n",
       "      <td>142428.12</td>\n",
       "      <td>63675.00</td>\n",
       "      <td>110250.00</td>\n",
       "      <td>156375.00</td>\n",
       "      <td>232500.00</td>\n",
       "      <td>622425.00</td>\n",
       "    </tr>\n",
       "    <tr>\n",
       "      <th>mortgage_payment</th>\n",
       "      <td>21.0</td>\n",
       "      <td>-1016.03</td>\n",
       "      <td>714.05</td>\n",
       "      <td>-3120.45</td>\n",
       "      <td>-1165.61</td>\n",
       "      <td>-783.97</td>\n",
       "      <td>-552.73</td>\n",
       "      <td>-319.23</td>\n",
       "    </tr>\n",
       "    <tr>\n",
       "      <th>property_tax</th>\n",
       "      <td>21.0</td>\n",
       "      <td>-436.18</td>\n",
       "      <td>306.54</td>\n",
       "      <td>-1339.60</td>\n",
       "      <td>-500.39</td>\n",
       "      <td>-336.55</td>\n",
       "      <td>-237.28</td>\n",
       "      <td>-137.04</td>\n",
       "    </tr>\n",
       "    <tr>\n",
       "      <th>insurance_payment</th>\n",
       "      <td>21.0</td>\n",
       "      <td>-101.33</td>\n",
       "      <td>71.21</td>\n",
       "      <td>-311.21</td>\n",
       "      <td>-116.25</td>\n",
       "      <td>-78.19</td>\n",
       "      <td>-55.12</td>\n",
       "      <td>-31.84</td>\n",
       "    </tr>\n",
       "    <tr>\n",
       "      <th>RegionName</th>\n",
       "      <td>0.0</td>\n",
       "      <td>NaN</td>\n",
       "      <td>NaN</td>\n",
       "      <td>NaN</td>\n",
       "      <td>NaN</td>\n",
       "      <td>NaN</td>\n",
       "      <td>NaN</td>\n",
       "      <td>NaN</td>\n",
       "    </tr>\n",
       "    <tr>\n",
       "      <th>rent_per_sqft</th>\n",
       "      <td>21.0</td>\n",
       "      <td>1.30</td>\n",
       "      <td>0.00</td>\n",
       "      <td>1.30</td>\n",
       "      <td>1.30</td>\n",
       "      <td>1.30</td>\n",
       "      <td>1.30</td>\n",
       "      <td>1.30</td>\n",
       "    </tr>\n",
       "    <tr>\n",
       "      <th>rent</th>\n",
       "      <td>21.0</td>\n",
       "      <td>2777.58</td>\n",
       "      <td>702.20</td>\n",
       "      <td>1235.29</td>\n",
       "      <td>2274.65</td>\n",
       "      <td>2777.58</td>\n",
       "      <td>3298.44</td>\n",
       "      <td>4087.37</td>\n",
       "    </tr>\n",
       "    <tr>\n",
       "      <th>vacancy</th>\n",
       "      <td>21.0</td>\n",
       "      <td>-277.76</td>\n",
       "      <td>70.22</td>\n",
       "      <td>-408.74</td>\n",
       "      <td>-329.84</td>\n",
       "      <td>-277.76</td>\n",
       "      <td>-227.47</td>\n",
       "      <td>-123.53</td>\n",
       "    </tr>\n",
       "    <tr>\n",
       "      <th>maintenance</th>\n",
       "      <td>21.0</td>\n",
       "      <td>-277.76</td>\n",
       "      <td>70.22</td>\n",
       "      <td>-408.74</td>\n",
       "      <td>-329.84</td>\n",
       "      <td>-277.76</td>\n",
       "      <td>-227.47</td>\n",
       "      <td>-123.53</td>\n",
       "    </tr>\n",
       "    <tr>\n",
       "      <th>capex</th>\n",
       "      <td>21.0</td>\n",
       "      <td>-277.76</td>\n",
       "      <td>70.22</td>\n",
       "      <td>-408.74</td>\n",
       "      <td>-329.84</td>\n",
       "      <td>-277.76</td>\n",
       "      <td>-227.47</td>\n",
       "      <td>-123.53</td>\n",
       "    </tr>\n",
       "    <tr>\n",
       "      <th>property_management</th>\n",
       "      <td>21.0</td>\n",
       "      <td>-277.76</td>\n",
       "      <td>70.22</td>\n",
       "      <td>-408.74</td>\n",
       "      <td>-329.84</td>\n",
       "      <td>-277.76</td>\n",
       "      <td>-227.47</td>\n",
       "      <td>-123.53</td>\n",
       "    </tr>\n",
       "    <tr>\n",
       "      <th>water</th>\n",
       "      <td>21.0</td>\n",
       "      <td>-100.00</td>\n",
       "      <td>0.00</td>\n",
       "      <td>-100.00</td>\n",
       "      <td>-100.00</td>\n",
       "      <td>-100.00</td>\n",
       "      <td>-100.00</td>\n",
       "      <td>-100.00</td>\n",
       "    </tr>\n",
       "    <tr>\n",
       "      <th>electricity</th>\n",
       "      <td>21.0</td>\n",
       "      <td>0.00</td>\n",
       "      <td>0.00</td>\n",
       "      <td>0.00</td>\n",
       "      <td>0.00</td>\n",
       "      <td>0.00</td>\n",
       "      <td>0.00</td>\n",
       "      <td>0.00</td>\n",
       "    </tr>\n",
       "    <tr>\n",
       "      <th>garbage</th>\n",
       "      <td>21.0</td>\n",
       "      <td>-100.00</td>\n",
       "      <td>0.00</td>\n",
       "      <td>-100.00</td>\n",
       "      <td>-100.00</td>\n",
       "      <td>-100.00</td>\n",
       "      <td>-100.00</td>\n",
       "      <td>-100.00</td>\n",
       "    </tr>\n",
       "    <tr>\n",
       "      <th>monthly_cashflow</th>\n",
       "      <td>21.0</td>\n",
       "      <td>-87.00</td>\n",
       "      <td>1097.74</td>\n",
       "      <td>-3304.72</td>\n",
       "      <td>-522.43</td>\n",
       "      <td>82.21</td>\n",
       "      <td>476.75</td>\n",
       "      <td>1365.49</td>\n",
       "    </tr>\n",
       "    <tr>\n",
       "      <th>coc_return</th>\n",
       "      <td>21.0</td>\n",
       "      <td>0.08</td>\n",
       "      <td>0.21</td>\n",
       "      <td>-0.19</td>\n",
       "      <td>-0.07</td>\n",
       "      <td>0.02</td>\n",
       "      <td>0.20</td>\n",
       "      <td>0.57</td>\n",
       "    </tr>\n",
       "  </tbody>\n",
       "</table>\n",
       "</div>"
      ],
      "text/plain": [
       "                            count        mean        std         min  \\\n",
       "SOLD DATE                     0.0         NaN        NaN         NaN   \n",
       "ZIP OR POSTAL CODE           21.0    53216.10       6.70    53207.00   \n",
       "PRICE                        21.0   270219.05  189904.16    84900.00   \n",
       "BEDS                         13.0        4.77       1.01        4.00   \n",
       "BATHS                        13.0        2.00       0.00        2.00   \n",
       "SQUARE FEET                  17.0     2140.59     605.04      952.00   \n",
       "LOT SIZE                     20.0     6315.75    4126.52     3049.00   \n",
       "YEAR BUILT                   21.0     1944.00      27.16     1899.00   \n",
       "DAYS ON MARKET               21.0       86.90      77.82        1.00   \n",
       "$/SQUARE FEET                17.0      100.82      46.02       40.00   \n",
       "HOA/MONTH                     0.0         NaN        NaN         NaN   \n",
       "NEXT OPEN HOUSE START TIME    0.0         NaN        NaN         NaN   \n",
       "NEXT OPEN HOUSE END TIME      0.0         NaN        NaN         NaN   \n",
       "MLS#                         21.0  1824796.67  731612.26  1640975.00   \n",
       "LATITUDE                     21.0       43.02       0.04       42.97   \n",
       "LONGITUDE                    21.0      -87.97       0.06      -88.07   \n",
       "down_payment                 21.0    67554.76   47476.04    21225.00   \n",
       "loan_amount                  21.0   202664.29  142428.12    63675.00   \n",
       "mortgage_payment             21.0    -1016.03     714.05    -3120.45   \n",
       "property_tax                 21.0     -436.18     306.54    -1339.60   \n",
       "insurance_payment            21.0     -101.33      71.21     -311.21   \n",
       "RegionName                    0.0         NaN        NaN         NaN   \n",
       "rent_per_sqft                21.0        1.30       0.00        1.30   \n",
       "rent                         21.0     2777.58     702.20     1235.29   \n",
       "vacancy                      21.0     -277.76      70.22     -408.74   \n",
       "maintenance                  21.0     -277.76      70.22     -408.74   \n",
       "capex                        21.0     -277.76      70.22     -408.74   \n",
       "property_management          21.0     -277.76      70.22     -408.74   \n",
       "water                        21.0     -100.00       0.00     -100.00   \n",
       "electricity                  21.0        0.00       0.00        0.00   \n",
       "garbage                      21.0     -100.00       0.00     -100.00   \n",
       "monthly_cashflow             21.0      -87.00    1097.74    -3304.72   \n",
       "coc_return                   21.0        0.08       0.21       -0.19   \n",
       "\n",
       "                                   25%         50%         75%         max  \n",
       "SOLD DATE                          NaN         NaN         NaN         NaN  \n",
       "ZIP OR POSTAL CODE            53207.00    53219.00    53222.00    53222.00  \n",
       "PRICE                        147000.00   208500.00   310000.00   829900.00  \n",
       "BEDS                              4.00        4.00        6.00        6.00  \n",
       "BATHS                             2.00        2.00        2.00        2.00  \n",
       "SQUARE FEET                    1736.00     2080.00     2608.00     3150.00  \n",
       "LOT SIZE                       3484.00     5227.00     6642.75    20473.00  \n",
       "YEAR BUILT                     1926.00     1953.00     1956.00     1990.00  \n",
       "DAYS ON MARKET                   10.00       81.00      141.00      247.00  \n",
       "$/SQUARE FEET                    70.00       93.00      122.00      194.00  \n",
       "HOA/MONTH                          NaN         NaN         NaN         NaN  \n",
       "NEXT OPEN HOUSE START TIME         NaN         NaN         NaN         NaN  \n",
       "NEXT OPEN HOUSE END TIME           NaN         NaN         NaN         NaN  \n",
       "MLS#                        1661399.00  1668134.00  1673338.00  5017565.00  \n",
       "LATITUDE                         42.99       43.01       43.07       43.09  \n",
       "LONGITUDE                       -88.02      -87.98      -87.90      -87.87  \n",
       "down_payment                  36750.00    52125.00    77500.00   207475.00  \n",
       "loan_amount                  110250.00   156375.00   232500.00   622425.00  \n",
       "mortgage_payment              -1165.61     -783.97     -552.73     -319.23  \n",
       "property_tax                   -500.39     -336.55     -237.28     -137.04  \n",
       "insurance_payment              -116.25      -78.19      -55.12      -31.84  \n",
       "RegionName                         NaN         NaN         NaN         NaN  \n",
       "rent_per_sqft                     1.30        1.30        1.30        1.30  \n",
       "rent                           2274.65     2777.58     3298.44     4087.37  \n",
       "vacancy                        -329.84     -277.76     -227.47     -123.53  \n",
       "maintenance                    -329.84     -277.76     -227.47     -123.53  \n",
       "capex                          -329.84     -277.76     -227.47     -123.53  \n",
       "property_management            -329.84     -277.76     -227.47     -123.53  \n",
       "water                          -100.00     -100.00     -100.00     -100.00  \n",
       "electricity                       0.00        0.00        0.00        0.00  \n",
       "garbage                        -100.00     -100.00     -100.00     -100.00  \n",
       "monthly_cashflow               -522.43       82.21      476.75     1365.49  \n",
       "coc_return                       -0.07        0.02        0.20        0.57  "
      ]
     },
     "execution_count": 21,
     "metadata": {},
     "output_type": "execute_result"
    }
   ],
   "source": [
    "df_final.describe().T.round(2)"
   ]
  },
  {
   "cell_type": "code",
   "execution_count": 22,
   "metadata": {
    "ExecuteTime": {
     "end_time": "2020-01-30T18:32:07.348049Z",
     "start_time": "2020-01-30T18:32:07.209820Z"
    }
   },
   "outputs": [
    {
     "data": {
      "text/plain": [
       "<matplotlib.axes._subplots.AxesSubplot at 0x7fba30e8c7f0>"
      ]
     },
     "execution_count": 22,
     "metadata": {},
     "output_type": "execute_result"
    },
    {
     "data": {
      "image/png": "[encoded data removed]",
      "text/plain": [
       "<Figure size 432x288 with 1 Axes>"
      ]
     },
     "metadata": {
      "needs_background": "light"
     },
     "output_type": "display_data"
    }
   ],
   "source": [
    "sns.distplot(df_final['down_payment'])"
   ]
  },
  {
   "cell_type": "code",
   "execution_count": 23,
   "metadata": {
    "ExecuteTime": {
     "end_time": "2020-01-30T18:32:07.353636Z",
     "start_time": "2020-01-30T18:32:07.349018Z"
    }
   },
   "outputs": [],
   "source": [
    "\n",
    "df_final = df_final.sort_values(by='coc_return')\n",
    "# df_final = df_final[df_final['rent'] < 2000]\n",
    "df_final.to_csv(\"1_clean_data/redfin_for_sale.csv\")"
   ]
  },
  {
   "cell_type": "code",
   "execution_count": 24,
   "metadata": {
    "ExecuteTime": {
     "end_time": "2020-01-30T18:32:07.494528Z",
     "start_time": "2020-01-30T18:32:07.354716Z"
    }
   },
   "outputs": [
    {
     "data": {
      "text/plain": [
       "<matplotlib.axes._subplots.AxesSubplot at 0x7fba4171ae10>"
      ]
     },
     "execution_count": 24,
     "metadata": {},
     "output_type": "execute_result"
    },
    {
     "data": {
      "image/png": "[encoded data removed]",
      "text/plain": [
       "<Figure size 432x288 with 1 Axes>"
      ]
     },
     "metadata": {
      "needs_background": "light"
     },
     "output_type": "display_data"
    }
   ],
   "source": [
    "sns.distplot(df_final['monthly_cashflow'])"
   ]
  },
  {
   "cell_type": "code",
   "execution_count": 25,
   "metadata": {
    "ExecuteTime": {
     "end_time": "2020-01-30T18:32:07.627153Z",
     "start_time": "2020-01-30T18:32:07.495601Z"
    }
   },
   "outputs": [
    {
     "data": {
      "text/plain": [
       "<matplotlib.axes._subplots.AxesSubplot at 0x7fba417536a0>"
      ]
     },
     "execution_count": 25,
     "metadata": {},
     "output_type": "execute_result"
    },
    {
     "data": {
      "image/png": "[encoded data removed]",
      "text/plain": [
       "<Figure size 432x288 with 1 Axes>"
      ]
     },
     "metadata": {
      "needs_background": "light"
     },
     "output_type": "display_data"
    }
   ],
   "source": [
    "sns.distplot(df_final['coc_return'])"
   ]
  }
 ],
 "metadata": {
  "hide_input": false,
  "instance_type": "ml.t3.medium",
  "kernelspec": {
   "display_name": "Python 3 (Data Science)",
   "language": "python",
   "name": "python3__SAGEMAKER_INTERNAL__arn:aws:sagemaker:us-east-1:081325390199:image/datascience-1.0"
  },
  "language_info": {
   "codemirror_mode": {
    "name": "ipython",
    "version": 3
   },
   "file_extension": ".py",
   "mimetype": "text/x-python",
   "name": "python",
   "nbconvert_exporter": "python",
   "pygments_lexer": "ipython3",
   "version": "3.7.10"
  },
  "toc": {
   "base_numbering": 1,
   "nav_menu": {},
   "number_sections": true,
   "sideBar": true,
   "skip_h1_title": false,
   "title_cell": "Table of Contents",
   "title_sidebar": "Contents",
   "toc_cell": false,
   "toc_position": {},
   "toc_section_display": true,
   "toc_window_display": false
  },
  "varInspector": {
   "cols": {
    "lenName": 16,
    "lenType": 16,
    "lenVar": 40
   },
   "kernels_config": {
    "python": {
     "delete_cmd_postfix": "",
     "delete_cmd_prefix": "del ",
     "library": "var_list.py",
     "varRefreshCmd": "print(var_dic_list())"
    },
    "r": {
     "delete_cmd_postfix": ") ",
     "delete_cmd_prefix": "rm(",
     "library": "var_list.r",
     "varRefreshCmd": "cat(var_dic_list()) "
    }
   },
   "types_to_exclude": [
    "module",
    "function",
    "builtin_function_or_method",
    "instance",
    "_Feature"
   ],
   "window_display": false
  }
 },
 "nbformat": 4,
 "nbformat_minor": 4
}
