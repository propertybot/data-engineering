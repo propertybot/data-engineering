{
 "cells": [
  {
   "cell_type": "code",
   "execution_count": 136,
   "metadata": {},
   "outputs": [],
   "source": [
    "import boto3\n",
    "import json\n",
    "import pandas as pd\n",
    "import requests\n",
    "\n",
    "import sys\n",
    "import os\n",
    "import numpy as np\n",
    "from scipy.optimize import fsolve\n"
   ]
  },
  {
   "cell_type": "code",
   "execution_count": 108,
   "metadata": {},
   "outputs": [],
   "source": [
    "s3 = boto3.resource('s3')\n",
    "\n",
    "listing = s3.Object('pb-get-listing', 'M3002977276.json')\n",
    "listing_content = listing.get()['Body'].read().decode('utf-8')\n",
    "listing_json = json.loads(listing_content)"
   ]
  },
  {
   "cell_type": "code",
   "execution_count": 109,
   "metadata": {},
   "outputs": [],
   "source": [
    "def get_downpayment(json_file, down_pect=.2):\n",
    "    price = json_file['price']\n",
    "    json_file['down'] = price * down_pect\n",
    "    json_file['loan'] = price - json_file['down']\n",
    "    \n",
    "    print(f\"INFO: the {down_pect} downpayment on a property with price {price} is {json_file['down']}\")\n",
    "    \n",
    "    return json_file"
   ]
  },
  {
   "cell_type": "code",
   "execution_count": 110,
   "metadata": {},
   "outputs": [],
   "source": [
    "def get_closing_costs(price, pect_of_price=0.02):\n",
    "    closing = price * pect_of_price\n",
    "    print(f\"INFO: closing costs are {pect_of_price} of {price} or {closing}\")\n",
    "    return closing\n",
    "    "
   ]
  },
  {
   "cell_type": "code",
   "execution_count": 118,
   "metadata": {},
   "outputs": [],
   "source": [
    "def get_monthly_loan_payment(loan_amount, int_rate=0.045, years=30):\n",
    "\t\"\"\"\n",
    "\tCalculates the monthly payment on a loan\n",
    "\tARGUMENTS:\n",
    "\t--------------------------------------\n",
    "\tloan_amount (int): amount borrowed\n",
    "\tint_rate (float): yearly interest rate\n",
    "\tyears (int): term of loan \n",
    "\tRETURNS:\n",
    "\t--------------------------------------\n",
    "\tpmt_amount (singleton): monthly payment\n",
    "\t\"\"\"\n",
    "\t\n",
    "\tfv = 0\n",
    "\tpv = loan_amount\n",
    "\tint_rate = int_rate\t\n",
    "\tyears = years\n",
    "\n",
    "\trate = int_rate / 12\n",
    "\tnper = years * 12\n",
    "\t\n",
    "\n",
    "\tdef f(pmt):\n",
    "\t\treturn fv + pv*(1 + rate)**nper + pmt*(1 + rate*0) / rate*((1 + rate)**nper - 1)\n",
    "\t\n",
    "\tpmt_amt = int(fsolve(f, [100], xtol=0.000001))\n",
    "\n",
    "\tprint(f\"INFO: calcualted payment amount of {pmt_amt}\")\n",
    "\n",
    "\n",
    "\treturn pmt_amt\n"
   ]
  },
  {
   "cell_type": "code",
   "execution_count": 119,
   "metadata": {},
   "outputs": [],
   "source": [
    "def get_arv():\n",
    "    return None"
   ]
  },
  {
   "cell_type": "code",
   "execution_count": 120,
   "metadata": {},
   "outputs": [],
   "source": [
    "def get_repair_costs():\n",
    "    return None"
   ]
  },
  {
   "cell_type": "code",
   "execution_count": 121,
   "metadata": {},
   "outputs": [],
   "source": [
    "def get_property_growth():\n",
    "    return None"
   ]
  },
  {
   "cell_type": "code",
   "execution_count": 129,
   "metadata": {},
   "outputs": [],
   "source": [
    "def get_points(loan, points = 0.005):\n",
    "    point_costs = loan * points\n",
    "    print(f\"INFO: the points on a loan of {loan} are {points} or {point_costs}\")\n",
    "    return point_costs"
   ]
  },
  {
   "cell_type": "code",
   "execution_count": 144,
   "metadata": {},
   "outputs": [],
   "source": [
    "def get_rental_income(address, bathrooms, bedrooms, squarefootage, proptype=\"Single Family\"):\n",
    "    url = \"https://realtymole-rental-estimate-v1.p.rapidapi.com/rentalPrice\"\n",
    "\n",
    "    querystring = {\"propertyType\":proptype,\"address\":address,\"bathrooms\":bathrooms,\"compCount\":\"5\",\"squareFootage\":squarefootage,\"bedrooms\":bedrooms}\n",
    "\n",
    "    headers = {\n",
    "        'x-rapidapi-host': \"realtymole-rental-estimate-v1.p.rapidapi.com\",\n",
    "        'x-rapidapi-key': \"4519f6dcffmshfadff8b94661096p1989c5jsn14919517996b\"\n",
    "        }\n",
    "\n",
    "    response = requests.request(\"GET\", url, headers=headers, params=querystring)\n",
    "    rent = response.json()['rent']\n",
    "\n",
    "    return rent"
   ]
  },
  {
   "cell_type": "code",
   "execution_count": 145,
   "metadata": {},
   "outputs": [
    {
     "data": {
      "text/plain": [
       "1570.54"
      ]
     },
     "execution_count": 145,
     "metadata": {},
     "output_type": "execute_result"
    }
   ],
   "source": [
    "get_rental_income(address=\"296 Melita Road, Memphis TN\", bathrooms=2, bedrooms=3, squarefootage=1400)"
   ]
  },
  {
   "cell_type": "code",
   "execution_count": 147,
   "metadata": {},
   "outputs": [
    {
     "data": {
      "text/plain": [
       "{'city': 'Cleveland',\n",
       " 'line': '529 E 112th St',\n",
       " 'postal_code': '44108',\n",
       " 'state_code': 'OH',\n",
       " 'state': 'Ohio',\n",
       " 'county': 'Cuyahoga',\n",
       " 'fips_code': '39035',\n",
       " 'county_needed_for_uniq': False,\n",
       " 'lat': 41.542969,\n",
       " 'lon': -81.606428,\n",
       " 'neighborhood_name': 'Forest Hills'}"
      ]
     },
     "execution_count": 147,
     "metadata": {},
     "output_type": "execute_result"
    }
   ],
   "source": [
    "listing_json['address']"
   ]
  },
  {
   "cell_type": "code",
   "execution_count": 151,
   "metadata": {},
   "outputs": [
    {
     "data": {
      "text/plain": [
       "'529 E 112th StCleveland'"
      ]
     },
     "execution_count": 151,
     "metadata": {},
     "output_type": "execute_result"
    }
   ],
   "source": [
    "listing_json['address']['line'] + listing_json['address']['city']"
   ]
  },
  {
   "cell_type": "code",
   "execution_count": 130,
   "metadata": {},
   "outputs": [
    {
     "name": "stdout",
     "output_type": "stream",
     "text": [
      "INFO: the 0.2 downpayment on a property with price 32000 is 6400.0\n"
     ]
    }
   ],
   "source": [
    "listing_json = get_downpayment(listing_json, down_pect=.2)"
   ]
  },
  {
   "cell_type": "code",
   "execution_count": 131,
   "metadata": {},
   "outputs": [
    {
     "name": "stdout",
     "output_type": "stream",
     "text": [
      "INFO: calcualted payment amount of -129\n"
     ]
    }
   ],
   "source": [
    "listing_json['loan_payment'] = get_monthly_loan_payment(listing_json['loan'])"
   ]
  },
  {
   "cell_type": "code",
   "execution_count": 132,
   "metadata": {},
   "outputs": [
    {
     "name": "stdout",
     "output_type": "stream",
     "text": [
      "INFO: the points on a loan of 25600.0 are 0.005 or 128.0\n"
     ]
    }
   ],
   "source": [
    "listing_json['loan_point_costs'] = get_points(listing_json['price']*.80, points = 0.005)"
   ]
  },
  {
   "cell_type": "code",
   "execution_count": 133,
   "metadata": {},
   "outputs": [
    {
     "name": "stdout",
     "output_type": "stream",
     "text": [
      "INFO: closing costs are 0.02 of 32000 or 640.0\n"
     ]
    }
   ],
   "source": [
    "listing_json['closing'] = get_closing_costs(listing_json['price'])"
   ]
  },
  {
   "cell_type": "code",
   "execution_count": 134,
   "metadata": {},
   "outputs": [
    {
     "data": {
      "text/plain": [
       "{'property_id': 'M3002977276',\n",
       " 'listing_id': '2936207914',\n",
       " 'products': ['core.agent', 'core.broker', 'co_broke'],\n",
       " 'rdc_web_url': 'https://www.realtor.com/realestateandhomes-detail/529-E-112th-St_Cleveland_OH_44108_M30029-77276',\n",
       " 'prop_type': 'single_family',\n",
       " 'virtual_tour': {'href': 'https://www.propertypanorama.com/529-East-112th-St-Cleveland-OH-44108/unbranded'},\n",
       " 'address': {'city': 'Cleveland',\n",
       "  'line': '529 E 112th St',\n",
       "  'postal_code': '44108',\n",
       "  'state_code': 'OH',\n",
       "  'state': 'Ohio',\n",
       "  'county': 'Cuyahoga',\n",
       "  'fips_code': '39035',\n",
       "  'county_needed_for_uniq': False,\n",
       "  'lat': 41.542969,\n",
       "  'lon': -81.606428,\n",
       "  'neighborhood_name': 'Forest Hills'},\n",
       " 'branding': {'listing_office': {'list_item': {'name': 'RealHome Services Solutions',\n",
       "    'photo': None,\n",
       "    'phone': None,\n",
       "    'slogan': None,\n",
       "    'show_realtor_logo': False,\n",
       "    'link': None,\n",
       "    'accent_color': None}}},\n",
       " 'prop_status': 'for_sale',\n",
       " 'price': 32000,\n",
       " 'baths_full': 1,\n",
       " 'baths': 1,\n",
       " 'beds': 4,\n",
       " 'building_size': {'size': 1732, 'units': 'sqft'},\n",
       " 'agents': [{'primary': True,\n",
       "   'advertiser_id': '1524161',\n",
       "   'id': '1524161',\n",
       "   'photo': None,\n",
       "   'name': 'Aaron Brailer'}],\n",
       " 'office': {'id': '81792693cb71774c9a38ee0fdc8fdd77',\n",
       "  'name': 'RealHome Services Solutions'},\n",
       " 'last_update': '2021-12-06T09:17:02Z',\n",
       " 'client_display_flags': {'presentation_status': 'for_sale',\n",
       "  'is_showcase': False,\n",
       "  'lead_form_phone_required': True,\n",
       "  'price_change': -4900,\n",
       "  'is_co_broke_email': True,\n",
       "  'has_open_house': False,\n",
       "  'is_co_broke_phone': False,\n",
       "  'is_new_listing': False,\n",
       "  'is_new_plan': False,\n",
       "  'is_turbo': False,\n",
       "  'is_office_standard_listing': False,\n",
       "  'suppress_map_pin': False,\n",
       "  'show_contact_a_lender_in_lead_form': False,\n",
       "  'show_veterans_united_in_lead_form': False,\n",
       "  'flip_the_market_enabled': True,\n",
       "  'is_showcase_choice_enabled': False},\n",
       " 'lead_forms': {'form': {'name': {'required': True,\n",
       "    'minimum_character_count': 1},\n",
       "   'email': {'required': True, 'minimum_character_count': 5},\n",
       "   'phone': {'required': True,\n",
       "    'minimum_character_count': 10,\n",
       "    'maximum_character_count': 11},\n",
       "   'message': {'required': False, 'minimum_character_count': 0},\n",
       "   'show': True},\n",
       "  'show_agent': False,\n",
       "  'show_broker': False,\n",
       "  'show_builder': False,\n",
       "  'show_contact_a_lender': False,\n",
       "  'show_veterans_united': False,\n",
       "  'form_type': 'classic',\n",
       "  'lead_type': 'co_broke',\n",
       "  'is_lcm_enabled': False,\n",
       "  'flip_the_market_enabled': True,\n",
       "  'local_phone': '(216)243-5410',\n",
       "  'local_phones': {'comm_console_mweb': '(216)243-5410'},\n",
       "  'show_text_leads': True,\n",
       "  'cashback_enabled': False,\n",
       "  'smarthome_enabled': False},\n",
       " 'photo_count': 10,\n",
       " 'thumbnail': 'https://ap.rdcpix.com/053dc254acdf96a8cbc34bc5aa4e38efl-m1092390718x.jpg',\n",
       " 'page_no': 12,\n",
       " 'rank': 7,\n",
       " 'list_tracking': 'type|property|data|prop_id|3002977276|list_id|2936207914|page|rank|list_branding|listing_agent|listing_office|advertiser_id|agent|office|broker|property_status|product_code|advantage_code^C|7|0|1|WO1T|VU8A|VU7N|35T|G|5^^$0|1|2|$3|4|5|6|7|J|8|K|9|$A|L|B|M]|C|$D|N|E|O|F|P]|G|Q|H|R|I|S]]',\n",
       " 'lot_size': {'size': 3999, 'units': 'sqft'},\n",
       " 'mls': {'name': 'MLSNOW',\n",
       "  'id': '4329915',\n",
       "  'plan_id': None,\n",
       "  'abbreviation': 'NEOH',\n",
       "  'type': 'mls'},\n",
       " 'data_source_name': 'mls',\n",
       " 'down': 6400.0,\n",
       " 'loan': 25600.0,\n",
       " 'loan_payment': -129,\n",
       " 'closing': 640.0,\n",
       " 'loan_point_costs': 128.0}"
      ]
     },
     "execution_count": 134,
     "metadata": {},
     "output_type": "execute_result"
    }
   ],
   "source": [
    "listing_json"
   ]
  },
  {
   "cell_type": "code",
   "execution_count": null,
   "metadata": {},
   "outputs": [],
   "source": []
  }
 ],
 "metadata": {
  "instance_type": "ml.t3.medium",
  "kernelspec": {
   "display_name": "Python 3 (Data Science)",
   "language": "python",
   "name": "python3__SAGEMAKER_INTERNAL__arn:aws:sagemaker:us-east-1:081325390199:image/datascience-1.0"
  },
  "language_info": {
   "codemirror_mode": {
    "name": "ipython",
    "version": 3
   },
   "file_extension": ".py",
   "mimetype": "text/x-python",
   "name": "python",
   "nbconvert_exporter": "python",
   "pygments_lexer": "ipython3",
   "version": "3.7.10"
  }
 },
 "nbformat": 4,
 "nbformat_minor": 4
}
