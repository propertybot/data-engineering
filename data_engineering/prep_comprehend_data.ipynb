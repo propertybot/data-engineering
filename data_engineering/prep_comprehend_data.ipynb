{
 "cells": [
  {
   "cell_type": "markdown",
   "metadata": {},
   "source": [
    "# Preparing Listing for Analysis and Additional Machine Learning\n",
    "\n",
    "**The data come from DynamoDB backups in S3 and are in JSON format.**"
   ]
  },
  {
   "cell_type": "code",
   "execution_count": 16,
   "metadata": {},
   "outputs": [],
   "source": [
    "import boto3\n",
    "\n",
    "import pandas as pd\n",
    "import gzip\n",
    "import shutil\n",
    "import json"
   ]
  },
  {
   "cell_type": "markdown",
   "metadata": {},
   "source": [
    "## Read Data from DynamoDB"
   ]
  },
  {
   "cell_type": "code",
   "execution_count": 17,
   "metadata": {},
   "outputs": [],
   "source": [
    "dynamodb = boto3.resource('dynamodb')\n",
    "table = dynamodb.Table('properties_enriched')"
   ]
  },
  {
   "cell_type": "code",
   "execution_count": 38,
   "metadata": {},
   "outputs": [],
   "source": [
    "def get_comprehend_data(property_id):\n",
    "    \"\"\"\n",
    "    AWS Comprehend needs labels and text to build a custom model, this function these two fields,\n",
    "    from a single record in a dynamoDB table. Consider makeing this a lambda.\n",
    "    \n",
    "    \"\"\"\n",
    "\n",
    "    response = table.get_item(Key={'property_id': property_id})\n",
    "    property_dict = {}\n",
    "    \n",
    "\n",
    "    property_dict['description'] = response['Item']['property_info']['properties'][0]['description']\n",
    "    property_dict['property_id'] = response['Item']['property_id']\n",
    "\n",
    "    #creating rehab index/final label\n",
    "    remodel_dict = {\n",
    "        \"old/dated\":0,\n",
    "        \"modern/remodeled\": 0,\n",
    "        \"destroyed/mess\": 0,\n",
    "        \"unknown\": 0,\n",
    "    }\n",
    "\n",
    "    for k,v in response['Item']['property_info']['labeled_photos'].items():\n",
    "        try:\n",
    "            if v[0][0]['Name'] == \"old/dated\":\n",
    "                remodel_dict[\"old/dated\"] = remodel_dict[\"old/dated\"] + 1\n",
    "            elif v[0][0]['Name'] == \"modern/remodeled\":\n",
    "                remodel_dict[\"modern/remodeled\"] = remodel_dict[\"modern/remodeled\"] + 1\n",
    "            elif v[0][0]['Name'] == \"destroyed/mess\":\n",
    "                remodel_dict[\"destroyed/mess\"] = remodel_dict[\"destroyed/mess\"] + 1\n",
    "\n",
    "        except:\n",
    "            pass\n",
    "\n",
    "\n",
    "    pics_with_labels = sum(remodel_dict.values()) \n",
    "    \n",
    "    if pics_with_labels != 0:\n",
    "        remodel_dict[\"old/dated\"] = round(remodel_dict[\"old/dated\"] / pics_with_labels, 2)\n",
    "        remodel_dict[\"modern/remodeled\"] = round(remodel_dict[\"modern/remodeled\"] / pics_with_labels, 2)\n",
    "        remodel_dict['destroyed/mess'] = round(remodel_dict['destroyed/mess'] / pics_with_labels, 2)\n",
    "        remodel_dict['unknown'] = round(remodel_dict['unknown'] / pics_with_labels, 2)\n",
    "\n",
    "        property_dict['remodel_status'] = max(remodel_dict, key=remodel_dict.get)\n",
    "        property_dict['remodel_status_confidence'] = max(remodel_dict.values()) \n",
    "    else: \n",
    "        property_dict['remodel_status'] = None\n",
    "        property_dict['remodel_status_confidence'] = None\n",
    "\n",
    "\n",
    "    your_keys = ['property_id','remodel_status','description', ]\n",
    "    comprehend_dict = {your_key: property_dict[your_key] for your_key in your_keys }\n",
    "    return comprehend_dict\n"
   ]
  },
  {
   "cell_type": "code",
   "execution_count": 44,
   "metadata": {},
   "outputs": [
    {
     "data": {
      "text/plain": [
       "{'property_id': 'M7392205127',\n",
       " 'remodel_status': 'modern/remodeled',\n",
       " 'description': \"Ideal low maintenance, zero lot home tucked in the heart of the city! Minutes from all things Memphis, this sought after gem is not to be missed! 4 Bedrooms (downstairs bedroom currently utilized as sitting room), 4 baths, 9' ceilings, hardwood floors, updated kitchen, and so much more! Abundant natural light. 2 car garage. Picture perfect patio with lush landscaping. HOA includes yard maintenance, keeping this idyllic neighborhood beautiful all the time!\"}"
      ]
     },
     "execution_count": 44,
     "metadata": {},
     "output_type": "execute_result"
    }
   ],
   "source": [
    "\n",
    "get_comprehend_data(property_id='M7392205127')\n"
   ]
  },
  {
   "cell_type": "code",
   "execution_count": 45,
   "metadata": {},
   "outputs": [
    {
     "data": {
      "text/plain": [
       "{'property_id': 'M4671480765',\n",
       " 'remodel_status': 'old/dated',\n",
       " 'description': 'Great investment property to compliment, or start, your portfolio! Located in the Slavic Village neighborhood! Property sold as-is! Currently generating a monthly income of $1, 000.'}"
      ]
     },
     "execution_count": 45,
     "metadata": {},
     "output_type": "execute_result"
    }
   ],
   "source": [
    "get_comprehend_data(property_id='M4671480765')\n"
   ]
  },
  {
   "cell_type": "code",
   "execution_count": null,
   "metadata": {},
   "outputs": [],
   "source": []
  }
 ],
 "metadata": {
  "instance_type": "ml.t3.medium",
  "kernelspec": {
   "display_name": "Python 3 (Data Science)",
   "language": "python",
   "name": "python3__SAGEMAKER_INTERNAL__arn:aws:sagemaker:us-east-1:081325390199:image/datascience-1.0"
  },
  "language_info": {
   "codemirror_mode": {
    "name": "ipython",
    "version": 3
   },
   "file_extension": ".py",
   "mimetype": "text/x-python",
   "name": "python",
   "nbconvert_exporter": "python",
   "pygments_lexer": "ipython3",
   "version": "3.7.10"
  }
 },
 "nbformat": 4,
 "nbformat_minor": 4
}
