{
 "cells": [
  {
   "cell_type": "markdown",
   "source": [
    "# PropertyBot Data Ingestion and Enrichment Pipeline\n",
    "\n",
    "\n",
    "* [Creating Listind Dictionary with Property Listings AND Details](##Creating-Listing-Dictionary-with-Property-Listings-AND-Details)\n",
    "\n"
   ],
   "metadata": {}
  },
  {
   "cell_type": "code",
   "execution_count": null,
   "source": [
    "import requests\n",
    "import time\n",
    "import json\n",
    "import os\n",
    "import boto3\n",
    "from datetime import datetime\n",
    "import config\n",
    "import pandas as pd\n",
    "import numpy as np\n",
    "import importlib\n",
    "from tqdm import tqdm\n",
    "import urllib.request\n",
    "from PIL import Image, ImageDraw, ExifTags, ImageColor, ImageFont\n",
    "from decimal import Decimal\n",
    "from description_nlp import fetch_description_metadata"
   ],
   "outputs": [],
   "metadata": {}
  },
  {
   "cell_type": "code",
   "execution_count": 7,
   "source": [
    "importlib.reload(config)"
   ],
   "outputs": [
    {
     "output_type": "execute_result",
     "data": {
      "text/plain": [
       "<module 'config' from '/root/propertybot-v3-ml/data_engineering/config.py'>"
      ]
     },
     "metadata": {},
     "execution_count": 7
    }
   ],
   "metadata": {}
  },
  {
   "cell_type": "code",
   "execution_count": 8,
   "source": [
    "BUCKET = \"propertybot-v3\"\n",
    "PREFIX = \"data/raw/listings/\""
   ],
   "outputs": [],
   "metadata": {}
  },
  {
   "cell_type": "code",
   "execution_count": 9,
   "source": [
    "\n",
    "\n",
    "s3 = boto3.resource('s3')  \n",
    "\n",
    "def get_listing(city, state_code, rent_or_sale):\n",
    "    \"\"\"\n",
    "    Retrieves listing data for a city. The data can be either for homes currently \"for sale\", \"for rent\", or \"that recently sold\". \n",
    "    The type of properties returned are only \"single family\" or \"multi family\" properties. \n",
    "    \n",
    "    Args:\n",
    "    city: The city for you are searching properties for.\n",
    "    state: The state you are searching property for.\n",
    "    rent_or_sale: you can specify \"rent\" = current properties for rent, \"sale\" = current properties for sale, \"sold\" = recently sold homes.\n",
    "\n",
    "    Returns:\n",
    "        A json file is returned with basic listing data.\n",
    "    \n",
    "    \"\"\"\n",
    "    \n",
    "    if rent_or_sale == \"rent\":\n",
    "        url = \"https://realty-in-us.p.rapidapi.com/properties/v2/list-for-rent\"\n",
    "        sort=\"newest\"\n",
    "    elif rent_or_sale == \"sale\":\n",
    "        url = \"https://realty-in-us.p.rapidapi.com/properties/v2/list-for-sale\"\n",
    "        sort=\"newest\"\n",
    "    elif rent_or_sale == \"sold\":\n",
    "        url = \"https://realty-in-us.p.rapidapi.com/properties/v2/list-sold\"\n",
    "        sort=\"sold_date\"\n",
    "           \n",
    "        \n",
    "    querystring = {\"city\":city,\"state_code\":state_code,\"offset\":\"0\",\"limit\":200,\"sort\":sort, \"prop_type\":\"single_family, multi_family\"}\n",
    "    headers = {\n",
    "        'x-rapidapi-key': config.api_key_rapid_api_realtyapi,\n",
    "        'x-rapidapi-host': config.api_host_rapid_api_realtyapi\n",
    "        }    \n",
    "    \n",
    "    \n",
    "    response = requests.request(\"GET\", url, headers=headers, params=querystring)\n",
    "    print(\"INFO: collecting data from {0},{1}, sorted by {2}\".format(city, state_code, sort))\n",
    "    return response.json()\n",
    "\n"
   ],
   "outputs": [],
   "metadata": {}
  },
  {
   "cell_type": "code",
   "execution_count": 10,
   "source": [
    "def get_property_details(property_id):\n",
    "    \"\"\"\n",
    "    Gets property details from a listing\n",
    "    \n",
    "    Args:\n",
    "        property_id: the property id from the listing agreements.\n",
    "\n",
    "    Returns:\n",
    "        JSON document with rich property details.\n",
    "    \n",
    "    \"\"\"\n",
    "    querystring = {\"property_id\":property_id}\n",
    "\n",
    "    headers = {\n",
    "        'x-rapidapi-host': config.api_host_rapid_api_realtyapi,\n",
    "        'x-rapidapi-key': config.api_key_rapid_api_realtyapi\n",
    "        }\n",
    "\n",
    "    response = requests.request(\"GET\", \"https://realty-in-us.p.rapidapi.com/properties/v2/detail\", headers=headers, params=querystring)\n",
    "  \n",
    "    return response.json()"
   ],
   "outputs": [],
   "metadata": {}
  },
  {
   "cell_type": "markdown",
   "source": [
    "## Creating Listing Dictionary with Property Listings AND Details"
   ],
   "metadata": {}
  },
  {
   "cell_type": "code",
   "execution_count": 11,
   "source": [
    "def create_listing_dict(properties):\n",
    "    listings_dict = {}\n",
    "\n",
    "    for item in tqdm(properties):\n",
    "        try:\n",
    "            #gettign necessary data\n",
    "            property_id = item['property_id']\n",
    "            listing = dict(item)\n",
    "            property_details = dict(get_property_details(property_id=property_id))\n",
    "\n",
    "            #merging two dictionary responses\n",
    "            listing.update(property_details)\n",
    "\n",
    "            #adding entry into master listing dictionary\n",
    "            listings_dict[property_id] = listing\n",
    "        except:\n",
    "            print(\"ERROR: not able to retrieve last item\")\n",
    "    return listings_dict"
   ],
   "outputs": [],
   "metadata": {}
  },
  {
   "cell_type": "markdown",
   "source": [
    "## Extracting Images from Listing Dictionary, Downloading Images, Saving to S3, and Recording S3 Location in Listing Dictionary for Computer Vision Model to Work off S3 Data"
   ],
   "metadata": {}
  },
  {
   "cell_type": "code",
   "execution_count": 12,
   "source": [
    "def extract_images_from_listings(listings_dict):\n",
    "    image_url_dict = {}\n",
    "\n",
    "    for key,value in tqdm(listings_dict.items()):\n",
    "        s3_urls = []\n",
    "        #extractign simple property\n",
    "        try:\n",
    "            property_details = value['properties'][0]\n",
    "        except:\n",
    "            print(\"Not all properties have details\")\n",
    "\n",
    "        try: # not all listing have pictures, so this try/except block is needed\n",
    "            photo_data = property_details['photos']\n",
    "            s3_urls = []\n",
    "            urls = []\n",
    "\n",
    "\n",
    "            #creating a list of urls for external images\n",
    "            for item in photo_data:\n",
    "                urls.append(item['href'])\n",
    "\n",
    "            # downloading images from urls and creating a list of urls in s3 where data are to be stored\n",
    "            counter = 0\n",
    "            for url in urls:\n",
    "                urllib.request.urlretrieve(url, \"temp_data/{0}_{1}.png\".format(key, counter))\n",
    "                s3_urls.append(\"s3://propertybot-v3/data/raw/images/{0}_{1}.png\".format(key, counter))\n",
    "                counter = counter + 1\n",
    "\n",
    "            image_url_dict[key] = s3_urls\n",
    "\n",
    "        except:\n",
    "            print(\"No photo data\")\n",
    "            image_url_dict[key] = s3_urls\n",
    "            \n",
    "    for k,v in tqdm(listings_dict.items()):\n",
    "        listings_dict[k]['s3_image_urls'] = image_url_dict.get(k)\n",
    "            \n",
    "    return listings_dict, image_url_dict\n",
    "    "
   ],
   "outputs": [],
   "metadata": {}
  },
  {
   "cell_type": "markdown",
   "source": [
    "## Run NLP on posted MLS descriptions to get applicable metadata."
   ],
   "metadata": {}
  },
  {
   "cell_type": "code",
   "execution_count": null,
   "source": [
    "def attach_metadata(listings_dict):\n",
    "    for k,v in listings_dict.items():\n",
    "        listings_dict[k]['description_metadata'] = fetch_description_metadata(v)\n",
    "\n",
    "    return listings_dict"
   ],
   "outputs": [],
   "metadata": {}
  },
  {
   "cell_type": "markdown",
   "source": [
    "### Start Computer Vision Model"
   ],
   "metadata": {}
  },
  {
   "cell_type": "code",
   "execution_count": 13,
   "source": [
    "def start_model(project_arn, model_arn, version_name, min_inference_units):\n",
    "\n",
    "    client=boto3.client('rekognition')\n",
    "\n",
    "    try:\n",
    "        # Start the model\n",
    "        print('Starting model: ' + model_arn)\n",
    "        response=client.start_project_version(ProjectVersionArn=model_arn, MinInferenceUnits=min_inference_units)\n",
    "        # Wait for the model to be in the running state\n",
    "        project_version_running_waiter = client.get_waiter('project_version_running')\n",
    "        project_version_running_waiter.wait(ProjectArn=project_arn, VersionNames=[version_name])\n",
    "\n",
    "        #Get the running status\n",
    "        describe_response=client.describe_project_versions(ProjectArn=project_arn,\n",
    "            VersionNames=[version_name])\n",
    "        for model in describe_response['ProjectVersionDescriptions']:\n",
    "            print(\"Status: \" + model['Status'])\n",
    "            print(\"Message: \" + model['StatusMessage']) \n",
    "    except Exception as e:\n",
    "        print(e)\n",
    "        \n",
    "    print('Done...')\n",
    "    \n",
    "def main_start_model():\n",
    "    project_arn='arn:aws:rekognition:us-east-1:735074111034:project/propertybot-v3-rehab-rekognition/1631041410077'\n",
    "    model_arn='arn:aws:rekognition:us-east-1:735074111034:project/propertybot-v3-rehab-rekognition/version/propertybot-v3-rehab-rekognition.2021-09-07T12.03.54/1631041434161'\n",
    "    min_inference_units=1 \n",
    "    version_name='propertybot-v3-rehab-rekognition.2021-09-07T12.03.54'\n",
    "    start_model(project_arn, model_arn, version_name, min_inference_units)\n",
    "    \n"
   ],
   "outputs": [],
   "metadata": {}
  },
  {
   "cell_type": "markdown",
   "source": [
    "### User Computer Vision Model To Label Images"
   ],
   "metadata": {}
  },
  {
   "cell_type": "code",
   "execution_count": 14,
   "source": [
    "def display_image(bucket,photo,response):\n",
    "    # Load image from S3 bucket\n",
    "    s3_connection = boto3.resource('s3')\n",
    "\n",
    "    s3_object = s3_connection.Object(bucket,photo)\n",
    "    s3_response = s3_object.get()\n",
    "\n",
    "    stream = io.BytesIO(s3_response['Body'].read())\n",
    "    image=Image.open(stream)\n",
    "\n",
    "    # Ready image to draw bounding boxes on it.\n",
    "    imgWidth, imgHeight = image.size\n",
    "    draw = ImageDraw.Draw(image)\n",
    "\n",
    "    # calculate and display bounding boxes for each detected custom label\n",
    "    print('Detected custom labels for ' + photo)\n",
    "    for customLabel in response['CustomLabels']:\n",
    "        print('Label ' + str(customLabel['Name']))\n",
    "        print('Confidence ' + str(customLabel['Confidence']))\n",
    "        if 'Geometry' in customLabel:\n",
    "            box = customLabel['Geometry']['BoundingBox']\n",
    "            left = imgWidth * box['Left']\n",
    "            top = imgHeight * box['Top']\n",
    "            width = imgWidth * box['Width']\n",
    "            height = imgHeight * box['Height']\n",
    "\n",
    "            fnt = ImageFont.truetype('/Library/Fonts/Arial.ttf', 50)\n",
    "            draw.text((left,top), customLabel['Name'], fill='#00d400', font=fnt)\n",
    "\n",
    "            print('Left: ' + '{0:.0f}'.format(left))\n",
    "            print('Top: ' + '{0:.0f}'.format(top))\n",
    "            print('Label Width: ' + \"{0:.0f}\".format(width))\n",
    "            print('Label Height: ' + \"{0:.0f}\".format(height))\n",
    "\n",
    "            points = (\n",
    "                (left,top),\n",
    "                (left + width, top),\n",
    "                (left + width, top + height),\n",
    "                (left , top + height),\n",
    "                (left, top))\n",
    "            draw.line(points, fill='#00d400', width=5)\n",
    "\n",
    "    image.show()\n",
    "\n",
    "def show_custom_labels(model,bucket,photo, min_confidence):\n",
    "    client=boto3.client('rekognition')\n",
    "\n",
    "    #Call DetectCustomLabels\n",
    "    response = client.detect_custom_labels(Image={'S3Object': {'Bucket': bucket, 'Name': photo}},\n",
    "        MinConfidence=min_confidence,\n",
    "        ProjectVersionArn=model)\n",
    "\n",
    "    # For object detection use case, uncomment below code to display image.\n",
    "    # display_image(bucket,photo,response)\n",
    "\n",
    "    return response['CustomLabels']\n",
    "\n",
    "def analyze_image(bucket, photo):\n",
    "\n",
    "    bucket=bucket\n",
    "    photo=photo\n",
    "    model='arn:aws:rekognition:us-east-1:735074111034:project/propertybot-v3-rehab-rekognition/version/propertybot-v3-rehab-rekognition.2021-09-07T12.03.54/1631041434161'\n",
    "    min_confidence=80\n",
    "\n",
    "    labels=show_custom_labels(model,bucket,photo, min_confidence)\n",
    "    return labels"
   ],
   "outputs": [],
   "metadata": {}
  },
  {
   "cell_type": "markdown",
   "source": [
    "## Running the Computer Vision Model on ALL of the images/properties"
   ],
   "metadata": {}
  },
  {
   "cell_type": "code",
   "execution_count": 15,
   "source": [
    "def ai_on_images(image_url_dict, listings_dict):\n",
    "    tagged_image_dict = {}\n",
    "\n",
    "    for k,v in tqdm(image_url_dict.items()):\n",
    "        for url in v:\n",
    "            temp_labels =[]\n",
    "            prefix = url.replace(\"s3://propertybot-v3/\", \"\")\n",
    "            temp_labels.append(analyze_image(bucket=\"propertybot-v3\", photo=prefix))\n",
    "            tagged_image_dict[url] = temp_labels\n",
    "            \n",
    "    for k,v in listings_dict.items():\n",
    "        big_dict = {}\n",
    "\n",
    "\n",
    "        for url in listings_dict[k]['s3_image_urls']:\n",
    "            try:\n",
    "                big_dict[url]=tagged_image_dict[url]\n",
    "\n",
    "            except: #this should never happeng because all of the urls in the tagged_image_dict come from the listing_dict, so there should always be a match\n",
    "                big_dict[url]=None\n",
    "\n",
    "        listings_dict[k]['labeled_photos'] = big_dict\n",
    "    return listings_dict\n",
    "    "
   ],
   "outputs": [],
   "metadata": {}
  },
  {
   "cell_type": "markdown",
   "source": [
    "## Merging Tagged Images with Listing by joining on s3 path file, name"
   ],
   "metadata": {}
  },
  {
   "cell_type": "markdown",
   "source": [
    "### Stopping Computer Vision Model"
   ],
   "metadata": {}
  },
  {
   "cell_type": "code",
   "execution_count": 16,
   "source": [
    "def stop_model(model_arn):\n",
    "\n",
    "    client=boto3.client('rekognition')\n",
    "\n",
    "    print('Stopping model:' + model_arn)\n",
    "\n",
    "    #Stop the model\n",
    "    try:\n",
    "        response=client.stop_project_version(ProjectVersionArn=model_arn)\n",
    "        status=response['Status']\n",
    "        print ('Status: ' + status)\n",
    "    except Exception as e:  \n",
    "        print(e)  \n",
    "\n",
    "    print('Done...')\n",
    "    \n",
    "def main_stop_model():\n",
    "    \n",
    "    model_arn='arn:aws:rekognition:us-east-1:735074111034:project/propertybot-v3-rehab-rekognition/version/propertybot-v3-rehab-rekognition.2021-09-07T12.03.54/1631041434161'\n",
    "    stop_model(model_arn)"
   ],
   "outputs": [],
   "metadata": {}
  },
  {
   "cell_type": "markdown",
   "source": [
    "## Saving Final Enriched Data to DynamoDB for Web Serving"
   ],
   "metadata": {}
  },
  {
   "cell_type": "code",
   "execution_count": 17,
   "source": [
    "def put_property(record, dynamodb=None):\n",
    "    if not dynamodb:\n",
    "        dynamodb = boto3.resource('dynamodb')\n",
    "\n",
    "    table = dynamodb.Table('properties_enriched')\n",
    "    response = table.put_item(\n",
    "       Item=record\n",
    "    )\n",
    "    return response"
   ],
   "outputs": [],
   "metadata": {}
  },
  {
   "cell_type": "code",
   "execution_count": 18,
   "source": [
    "def saving_data_to_dynamoDB(listings_dict):\n",
    "    for k,v in listings_dict.items():\n",
    "        payload = {}\n",
    "        payload['property_id'] = k\n",
    "        payload['property_info'] = v\n",
    "        print(\"INFO: saving data for property_id: {0}\".format(k))\n",
    "\n",
    "        ddb_data = json.loads(json.dumps(payload), parse_float=Decimal) #had to parse float decimal because files could not be saved to DynamoDB\n",
    "        put_property(record=ddb_data)\n",
    "        time.sleep(1) #had to a\n",
    "    return None"
   ],
   "outputs": [],
   "metadata": {}
  },
  {
   "cell_type": "markdown",
   "source": [
    "# Main Function that Does the Ingestion"
   ],
   "metadata": {}
  },
  {
   "cell_type": "code",
   "execution_count": 19,
   "source": [
    "def main(city, state_code, rent_or_sale):\n",
    "    s3 = boto3.resource('s3')\n",
    "    dynamodb = boto3.resource('dynamodb')\n",
    "    \n",
    "    print(\"INFO: START pulling data {0} for {1},{2}\".format(rent_or_sale, city, state_code))\n",
    "    response = get_listing(city=city, state_code=state_code, rent_or_sale=rent_or_sale)\n",
    "    properties = response['properties']\n",
    "    listings_dict = create_listing_dict(properties=properties)\n",
    "    print(\"Done...\")\n",
    "    \n",
    "    \n",
    "    print(\"INFO: extracting images from listings...\")\n",
    "    #extracting images and saves to s3, saves location in listings_dict\n",
    "    listings_dict, image_url_dict = extract_images_from_listings(listings_dict)\n",
    "    os.system(\"aws s3 mv temp_data s3://propertybot-v3/data/raw/images --recursive --quiet\")\n",
    "    print(\"Done...\")\n",
    "    \n",
    "    print(\"INFO: running computer vision on images...\")\n",
    "    listings_dict = attach_metadata(listings_dict)\n",
    "    print(\"Done...\")\n",
    "\n",
    "    print(\"INFO: running NLP on descriptions vision on images...\")\n",
    "    #running AI/computer vision on images in s3 and saves label in listings_dict\n",
    "    main_start_model()\n",
    "    \n",
    "    \n",
    "    listings_dict = ai_on_images(image_url_dict=image_url_dict, listings_dict=listings_dict)\n",
    "    main_stop_model()\n",
    "    print(\"Done...\")\n",
    "    \n",
    "    print(\"INFO: running computer vision on images...\")\n",
    "    #running AI/computer vision on images in s3 and saves label in listings_dict\n",
    "    main_start_model()\n",
    "    \n",
    "    \n",
    "    listings_dict = ai_on_images(image_url_dict=image_url_dict, listings_dict=listings_dict)\n",
    "    main_stop_model()\n",
    "    print(\"Done...\")\n",
    "    \n",
    "    #saving enriched listings_dict to dynamoDB table\n",
    "    print(\"INFO: saving enriched JSON to DynamoDB table...\")\n",
    "    saving_data_to_dynamoDB(listings_dict=listings_dict)\n",
    "    print(\"Done...\")\n",
    "    \n",
    "    print(\"INFO: DONE pullng data {0} for {1},{2}\".format(rent_or_sale, city, state_code))\n",
    "    return None"
   ],
   "outputs": [],
   "metadata": {}
  },
  {
   "cell_type": "code",
   "execution_count": 20,
   "source": [
    "main(city=\"Cleveland\", state_code=\"OH\", rent_or_sale=\"sale\")"
   ],
   "outputs": [
    {
     "output_type": "stream",
     "name": "stdout",
     "text": [
      "INFO: START pullng data sale for Cleveland,OH\n"
     ]
    },
    {
     "output_type": "stream",
     "name": "stderr",
     "text": [
      "  0%|          | 0/200 [00:00<?, ?it/s]"
     ]
    },
    {
     "output_type": "stream",
     "name": "stdout",
     "text": [
      "INFO: collecting data from Cleveland,OH, sorted by newest\n"
     ]
    },
    {
     "output_type": "stream",
     "name": "stderr",
     "text": [
      "100%|██████████| 200/200 [03:56<00:00,  1.18s/it]\n",
      "  0%|          | 0/200 [00:00<?, ?it/s]"
     ]
    },
    {
     "output_type": "stream",
     "name": "stdout",
     "text": [
      "Done...\n",
      "INFO: extracting images from listings...\n"
     ]
    },
    {
     "output_type": "stream",
     "name": "stderr",
     "text": [
      "  6%|▋         | 13/200 [00:23<05:25,  1.74s/it]"
     ]
    },
    {
     "output_type": "stream",
     "name": "stdout",
     "text": [
      "No photo data\n"
     ]
    },
    {
     "output_type": "stream",
     "name": "stderr",
     "text": [
      " 10%|▉         | 19/200 [00:30<04:43,  1.56s/it]"
     ]
    },
    {
     "output_type": "stream",
     "name": "stdout",
     "text": [
      "No photo data\n"
     ]
    },
    {
     "output_type": "stream",
     "name": "stderr",
     "text": [
      " 44%|████▍     | 88/200 [04:32<05:36,  3.00s/it]"
     ]
    },
    {
     "output_type": "stream",
     "name": "stdout",
     "text": [
      "No photo data\n"
     ]
    },
    {
     "output_type": "stream",
     "name": "stderr",
     "text": [
      " 64%|██████▍   | 129/200 [08:06<10:13,  8.64s/it]"
     ]
    },
    {
     "output_type": "stream",
     "name": "stdout",
     "text": [
      "No photo data\n"
     ]
    },
    {
     "output_type": "stream",
     "name": "stderr",
     "text": [
      " 82%|████████▏ | 164/200 [11:23<04:11,  6.98s/it]"
     ]
    },
    {
     "output_type": "stream",
     "name": "stdout",
     "text": [
      "No photo data\n"
     ]
    },
    {
     "output_type": "stream",
     "name": "stderr",
     "text": [
      " 86%|████████▌ | 171/200 [11:55<02:50,  5.89s/it]"
     ]
    },
    {
     "output_type": "stream",
     "name": "stdout",
     "text": [
      "No photo data\n"
     ]
    },
    {
     "output_type": "stream",
     "name": "stderr",
     "text": [
      "100%|██████████| 200/200 [13:53<00:00,  4.17s/it]\n",
      "100%|██████████| 200/200 [00:00<00:00, 163170.74it/s]\n"
     ]
    },
    {
     "output_type": "stream",
     "name": "stdout",
     "text": [
      "Done...\n",
      "INFO: running computer vision on images...\n",
      "Starting model: arn:aws:rekognition:us-east-1:735074111034:project/propertybot-v3-rehab-rekognition/version/propertybot-v3-rehab-rekognition.2021-09-07T12.03.54/1631041434161\n"
     ]
    },
    {
     "output_type": "stream",
     "name": "stderr",
     "text": [
      "  0%|          | 0/200 [00:00<?, ?it/s]"
     ]
    },
    {
     "output_type": "stream",
     "name": "stdout",
     "text": [
      "Status: RUNNING\n",
      "Message: The model is running.\n",
      "Done...\n"
     ]
    },
    {
     "output_type": "stream",
     "name": "stderr",
     "text": [
      "100%|██████████| 200/200 [12:53<00:00,  3.87s/it]\n"
     ]
    },
    {
     "output_type": "stream",
     "name": "stdout",
     "text": [
      "Stopping model:arn:aws:rekognition:us-east-1:735074111034:project/propertybot-v3-rehab-rekognition/version/propertybot-v3-rehab-rekognition.2021-09-07T12.03.54/1631041434161\n",
      "Status: STOPPING\n",
      "Done...\n",
      "Done...\n",
      "INFO: saving enriched JSON to DynamoDB table...\n",
      "INFO: saving data for property_id: M4590404411\n",
      "INFO: saving data for property_id: M3743507009\n",
      "INFO: saving data for property_id: M3194263359\n",
      "INFO: saving data for property_id: M3364005173\n",
      "INFO: saving data for property_id: M3756207878\n",
      "INFO: saving data for property_id: M4786095762\n",
      "INFO: saving data for property_id: M4546234303\n",
      "INFO: saving data for property_id: M4840807241\n",
      "INFO: saving data for property_id: M4896874814\n",
      "INFO: saving data for property_id: M4457436564\n",
      "INFO: saving data for property_id: M3564991772\n",
      "INFO: saving data for property_id: M3129402949\n",
      "INFO: saving data for property_id: M4255519721\n",
      "INFO: saving data for property_id: M4856857826\n",
      "INFO: saving data for property_id: M3359085548\n",
      "INFO: saving data for property_id: M3823685128\n",
      "INFO: saving data for property_id: M3543179824\n",
      "INFO: saving data for property_id: M3726196017\n",
      "INFO: saving data for property_id: M4148098118\n",
      "INFO: saving data for property_id: M3470290790\n",
      "INFO: saving data for property_id: M4868405378\n",
      "INFO: saving data for property_id: M4143772274\n",
      "INFO: saving data for property_id: M3878736188\n",
      "INFO: saving data for property_id: M3093527738\n",
      "INFO: saving data for property_id: M4824187150\n",
      "INFO: saving data for property_id: M4915889188\n",
      "INFO: saving data for property_id: M3109627849\n",
      "INFO: saving data for property_id: M3676836832\n",
      "INFO: saving data for property_id: M3609213331\n",
      "INFO: saving data for property_id: M4579764724\n",
      "INFO: saving data for property_id: M4421327272\n",
      "INFO: saving data for property_id: M4242102576\n",
      "INFO: saving data for property_id: M3030173190\n",
      "INFO: saving data for property_id: M3434661400\n",
      "INFO: saving data for property_id: M3907367988\n",
      "INFO: saving data for property_id: M4893443015\n",
      "INFO: saving data for property_id: M3471331087\n",
      "INFO: saving data for property_id: M3972006421\n",
      "INFO: saving data for property_id: M4458428222\n",
      "INFO: saving data for property_id: M4468277803\n",
      "INFO: saving data for property_id: M3373615167\n",
      "INFO: saving data for property_id: M4467368899\n",
      "INFO: saving data for property_id: M4485261107\n",
      "INFO: saving data for property_id: M3498133522\n",
      "INFO: saving data for property_id: M3729002334\n",
      "INFO: saving data for property_id: M3547654366\n",
      "INFO: saving data for property_id: M3310716280\n",
      "INFO: saving data for property_id: M4453375981\n",
      "INFO: saving data for property_id: M3414835918\n",
      "INFO: saving data for property_id: M4727541520\n",
      "INFO: saving data for property_id: M3939452558\n",
      "INFO: saving data for property_id: M3307211876\n",
      "INFO: saving data for property_id: M3579568870\n",
      "INFO: saving data for property_id: M4055995052\n",
      "INFO: saving data for property_id: M4327057032\n",
      "INFO: saving data for property_id: M4479968640\n",
      "INFO: saving data for property_id: M4443610899\n",
      "INFO: saving data for property_id: M3917887469\n",
      "INFO: saving data for property_id: M3175502663\n",
      "INFO: saving data for property_id: M3301203835\n",
      "INFO: saving data for property_id: M3535815688\n",
      "INFO: saving data for property_id: M4811037347\n",
      "INFO: saving data for property_id: M3438837110\n",
      "INFO: saving data for property_id: M3915520302\n",
      "INFO: saving data for property_id: M3832892261\n",
      "INFO: saving data for property_id: M4318476939\n",
      "INFO: saving data for property_id: M3513294280\n",
      "INFO: saving data for property_id: M3685472564\n",
      "INFO: saving data for property_id: M3457796732\n",
      "INFO: saving data for property_id: M3935266177\n",
      "INFO: saving data for property_id: M3650051729\n",
      "INFO: saving data for property_id: M4635692344\n",
      "INFO: saving data for property_id: M3493541589\n",
      "INFO: saving data for property_id: M4433605955\n",
      "INFO: saving data for property_id: M3537760334\n",
      "INFO: saving data for property_id: M4720069255\n",
      "INFO: saving data for property_id: M4222781147\n",
      "INFO: saving data for property_id: M4363881378\n",
      "INFO: saving data for property_id: M4922597058\n",
      "INFO: saving data for property_id: M3986132966\n",
      "INFO: saving data for property_id: M3811342397\n",
      "INFO: saving data for property_id: M3006182147\n",
      "INFO: saving data for property_id: M4425833638\n",
      "INFO: saving data for property_id: M4760325217\n",
      "INFO: saving data for property_id: M3615939390\n",
      "INFO: saving data for property_id: M3356775580\n",
      "INFO: saving data for property_id: M3308366600\n",
      "INFO: saving data for property_id: M3310342216\n",
      "INFO: saving data for property_id: M3226315035\n",
      "INFO: saving data for property_id: M4198216593\n",
      "INFO: saving data for property_id: M3051702052\n",
      "INFO: saving data for property_id: M3214879985\n",
      "INFO: saving data for property_id: M4647095723\n",
      "INFO: saving data for property_id: M4309367602\n",
      "INFO: saving data for property_id: M9435608238\n",
      "INFO: saving data for property_id: M3063938580\n",
      "INFO: saving data for property_id: M4765620832\n",
      "INFO: saving data for property_id: M3623024475\n",
      "INFO: saving data for property_id: M3046988690\n",
      "INFO: saving data for property_id: M3816239979\n",
      "INFO: saving data for property_id: M4328215945\n",
      "INFO: saving data for property_id: M3578950757\n",
      "INFO: saving data for property_id: M3364583757\n",
      "INFO: saving data for property_id: M4243351428\n",
      "INFO: saving data for property_id: M4844884269\n",
      "INFO: saving data for property_id: M4612556492\n",
      "INFO: saving data for property_id: M4559274417\n",
      "INFO: saving data for property_id: M3630212246\n",
      "INFO: saving data for property_id: M3061021688\n",
      "INFO: saving data for property_id: M9879967473\n",
      "INFO: saving data for property_id: M3529640394\n",
      "INFO: saving data for property_id: M4879273734\n",
      "INFO: saving data for property_id: M3016740301\n",
      "INFO: saving data for property_id: M3343369287\n",
      "INFO: saving data for property_id: M3517072325\n",
      "INFO: saving data for property_id: M4100853281\n",
      "INFO: saving data for property_id: M3816020052\n",
      "INFO: saving data for property_id: M4387889572\n",
      "INFO: saving data for property_id: M3901834407\n",
      "INFO: saving data for property_id: M3894249673\n",
      "INFO: saving data for property_id: M3788576056\n",
      "INFO: saving data for property_id: M4886338519\n",
      "INFO: saving data for property_id: M4107995227\n",
      "INFO: saving data for property_id: M4731577614\n",
      "INFO: saving data for property_id: M9082184114\n",
      "INFO: saving data for property_id: M4882267084\n",
      "INFO: saving data for property_id: M4811649347\n",
      "INFO: saving data for property_id: M3449626044\n",
      "INFO: saving data for property_id: M3353271358\n",
      "INFO: saving data for property_id: M3171292130\n",
      "INFO: saving data for property_id: M3560657551\n",
      "INFO: saving data for property_id: M4501759067\n",
      "INFO: saving data for property_id: M3375552996\n",
      "INFO: saving data for property_id: M4324795703\n",
      "INFO: saving data for property_id: M4394483015\n",
      "INFO: saving data for property_id: M4357850594\n",
      "INFO: saving data for property_id: M4395563728\n",
      "INFO: saving data for property_id: M4394706611\n",
      "INFO: saving data for property_id: M4394967472\n",
      "INFO: saving data for property_id: M3747334029\n",
      "INFO: saving data for property_id: M3124659321\n",
      "INFO: saving data for property_id: M3983745193\n",
      "INFO: saving data for property_id: M4585112647\n",
      "INFO: saving data for property_id: M4295272238\n",
      "INFO: saving data for property_id: M4256897154\n",
      "INFO: saving data for property_id: M3339497297\n",
      "INFO: saving data for property_id: M4440394655\n",
      "INFO: saving data for property_id: M4204821408\n",
      "INFO: saving data for property_id: M4536328564\n",
      "INFO: saving data for property_id: M3806351909\n",
      "INFO: saving data for property_id: M3445854480\n",
      "INFO: saving data for property_id: M4841965634\n",
      "INFO: saving data for property_id: M4600591495\n",
      "INFO: saving data for property_id: M3376171539\n",
      "INFO: saving data for property_id: M3760416117\n",
      "INFO: saving data for property_id: M3572172728\n",
      "INFO: saving data for property_id: M4912453722\n",
      "INFO: saving data for property_id: M4314230547\n",
      "INFO: saving data for property_id: M4614549777\n",
      "INFO: saving data for property_id: M3602656269\n",
      "INFO: saving data for property_id: M4762302941\n",
      "INFO: saving data for property_id: M4926316652\n",
      "INFO: saving data for property_id: M3386029345\n",
      "INFO: saving data for property_id: M4703090507\n",
      "INFO: saving data for property_id: M3035826761\n",
      "INFO: saving data for property_id: M4570799560\n",
      "INFO: saving data for property_id: M4188303853\n",
      "INFO: saving data for property_id: M4040083902\n",
      "INFO: saving data for property_id: M4669047105\n",
      "INFO: saving data for property_id: M3201342482\n",
      "INFO: saving data for property_id: M3038224896\n",
      "INFO: saving data for property_id: M3935958302\n",
      "INFO: saving data for property_id: M3965216623\n",
      "INFO: saving data for property_id: M3310320876\n",
      "INFO: saving data for property_id: M3719122304\n",
      "INFO: saving data for property_id: M9576912691\n",
      "INFO: saving data for property_id: M4265630683\n",
      "INFO: saving data for property_id: M4562346488\n",
      "INFO: saving data for property_id: M4810307773\n",
      "INFO: saving data for property_id: M3011867910\n",
      "INFO: saving data for property_id: M4840556346\n",
      "INFO: saving data for property_id: M4379351116\n",
      "INFO: saving data for property_id: M4517017987\n",
      "INFO: saving data for property_id: M4175896739\n",
      "INFO: saving data for property_id: M4572614219\n",
      "INFO: saving data for property_id: M3682608162\n",
      "INFO: saving data for property_id: M9141821841\n",
      "INFO: saving data for property_id: M9736990246\n",
      "INFO: saving data for property_id: M4748360404\n",
      "INFO: saving data for property_id: M9291629401\n",
      "INFO: saving data for property_id: M3481765551\n",
      "INFO: saving data for property_id: M9993408486\n",
      "INFO: saving data for property_id: M9157825793\n",
      "INFO: saving data for property_id: M3931244604\n",
      "INFO: saving data for property_id: M4642907752\n",
      "INFO: saving data for property_id: M3692019999\n",
      "INFO: saving data for property_id: M3311470342\n",
      "INFO: saving data for property_id: M3705821175\n",
      "INFO: saving data for property_id: M3621363772\n",
      "INFO: saving data for property_id: M3057506093\n",
      "Done...\n",
      "INFO: DONE pullng data sale for Cleveland,OH\n"
     ]
    }
   ],
   "metadata": {}
  },
  {
   "cell_type": "code",
   "execution_count": null,
   "source": [],
   "outputs": [],
   "metadata": {}
  },
  {
   "cell_type": "code",
   "execution_count": null,
   "source": [],
   "outputs": [],
   "metadata": {}
  }
 ],
 "metadata": {
  "instance_type": "ml.t3.medium",
  "kernelspec": {
   "name": "python3",
   "display_name": "Python 3.8.2 64-bit"
  },
  "language_info": {
   "codemirror_mode": {
    "name": "ipython",
    "version": 3
   },
   "file_extension": ".py",
   "mimetype": "text/x-python",
   "name": "python",
   "nbconvert_exporter": "python",
   "pygments_lexer": "ipython3",
   "version": "3.8.2"
  },
  "interpreter": {
   "hash": "31f2aee4e71d21fbe5cf8b01ff0e069b9275f58929596ceb00d14d90e3e16cd6"
  }
 },
 "nbformat": 4,
 "nbformat_minor": 4
}